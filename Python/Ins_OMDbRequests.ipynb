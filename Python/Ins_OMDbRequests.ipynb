{
 "cells": [
  {
   "cell_type": "code",
   "execution_count": 1,
   "metadata": {},
   "outputs": [],
   "source": [
    "import requests\n",
    "import json\n",
    "import pandas as pd\n",
    "from config import api_key"
   ]
  },
  {
   "cell_type": "code",
   "execution_count": 2,
   "metadata": {},
   "outputs": [],
   "source": [
    "# New Dependency! Use this to pretty print the JSON\n",
    "# https://docs.python.org/3/library/pprint.html\n",
    "from pprint import pprint"
   ]
  },
  {
   "cell_type": "code",
   "execution_count": 3,
   "metadata": {},
   "outputs": [
    {
     "data": {
      "text/plain": [
       "'6ccb42cc'"
      ]
     },
     "execution_count": 3,
     "metadata": {},
     "output_type": "execute_result"
    }
   ],
   "source": [
    "api_key"
   ]
  },
  {
   "cell_type": "code",
   "execution_count": 6,
   "metadata": {},
   "outputs": [],
   "source": [
    "movieList_path = \"../data/movie_list.csv\""
   ]
  },
  {
   "cell_type": "code",
   "execution_count": 10,
   "metadata": {},
   "outputs": [],
   "source": [
    "movieList = pd.read_csv(movieList_path)"
   ]
  },
  {
   "cell_type": "code",
   "execution_count": 11,
   "metadata": {},
   "outputs": [
    {
     "data": {
      "text/html": [
       "<div>\n",
       "<style scoped>\n",
       "    .dataframe tbody tr th:only-of-type {\n",
       "        vertical-align: middle;\n",
       "    }\n",
       "\n",
       "    .dataframe tbody tr th {\n",
       "        vertical-align: top;\n",
       "    }\n",
       "\n",
       "    .dataframe thead th {\n",
       "        text-align: right;\n",
       "    }\n",
       "</style>\n",
       "<table border=\"1\" class=\"dataframe\">\n",
       "  <thead>\n",
       "    <tr style=\"text-align: right;\">\n",
       "      <th></th>\n",
       "      <th>Title</th>\n",
       "      <th>File Name</th>\n",
       "      <th>RT Rating</th>\n",
       "      <th>Rating</th>\n",
       "      <th>Date</th>\n",
       "      <th>Genre</th>\n",
       "      <th>Actors</th>\n",
       "    </tr>\n",
       "  </thead>\n",
       "  <tbody>\n",
       "    <tr>\n",
       "      <th>0</th>\n",
       "      <td>1917</td>\n",
       "      <td>1917</td>\n",
       "      <td>88%</td>\n",
       "      <td>R</td>\n",
       "      <td>2019</td>\n",
       "      <td>History War</td>\n",
       "      <td>George Mackay, Dean-Charles Chapman, Mark Strong</td>\n",
       "    </tr>\n",
       "    <tr>\n",
       "      <th>1</th>\n",
       "      <td>21 Jump Street</td>\n",
       "      <td>21 JUMP STREET</td>\n",
       "      <td>82%</td>\n",
       "      <td>R</td>\n",
       "      <td>2012</td>\n",
       "      <td>Comedy Action</td>\n",
       "      <td>Jonah Hill, Channing Tatum, Brie Larson</td>\n",
       "    </tr>\n",
       "    <tr>\n",
       "      <th>2</th>\n",
       "      <td>27 Dresses</td>\n",
       "      <td>27 DRESSES</td>\n",
       "      <td>57%</td>\n",
       "      <td>PG-13</td>\n",
       "      <td>2008</td>\n",
       "      <td>Comedy Romance</td>\n",
       "      <td>Katherine Heigl, James Marsden, Malin Akerman</td>\n",
       "    </tr>\n",
       "    <tr>\n",
       "      <th>3</th>\n",
       "      <td>40 Year Old Virgin</td>\n",
       "      <td>40 YEAR OLD VIRGIN</td>\n",
       "      <td>84%</td>\n",
       "      <td>R</td>\n",
       "      <td>2005</td>\n",
       "      <td>Comedy Romance</td>\n",
       "      <td>Steve Carell, Catherine Keener, Paul Rudd, Rom...</td>\n",
       "    </tr>\n",
       "    <tr>\n",
       "      <th>4</th>\n",
       "      <td>50 First Dates</td>\n",
       "      <td>50 FIRST DATES</td>\n",
       "      <td>65%</td>\n",
       "      <td>PG-13</td>\n",
       "      <td>2004</td>\n",
       "      <td>Comedy Romance</td>\n",
       "      <td>Adam Sandler, Drew Barrymore, Rob Schneider, S...</td>\n",
       "    </tr>\n",
       "    <tr>\n",
       "      <th>...</th>\n",
       "      <td>...</td>\n",
       "      <td>...</td>\n",
       "      <td>...</td>\n",
       "      <td>...</td>\n",
       "      <td>...</td>\n",
       "      <td>...</td>\n",
       "      <td>...</td>\n",
       "    </tr>\n",
       "    <tr>\n",
       "      <th>511</th>\n",
       "      <td>You're Welcome America</td>\n",
       "      <td>YOU'RE WELCOME AMERICA</td>\n",
       "      <td>62%</td>\n",
       "      <td>NR</td>\n",
       "      <td>2009</td>\n",
       "      <td>Comedy</td>\n",
       "      <td>Will Ferrell, Michael Delaney, Pia Glen</td>\n",
       "    </tr>\n",
       "    <tr>\n",
       "      <th>512</th>\n",
       "      <td>You've Got Mail</td>\n",
       "      <td>YOU'VE GOT MAIL 4GB</td>\n",
       "      <td>73%</td>\n",
       "      <td>PG</td>\n",
       "      <td>1998</td>\n",
       "      <td>Comedy Romance</td>\n",
       "      <td>Tom Hanks, Meg Ryan, Parker Posey</td>\n",
       "    </tr>\n",
       "    <tr>\n",
       "      <th>513</th>\n",
       "      <td>Zach Galifianakis: Live at the Purple Onion</td>\n",
       "      <td>ZACH GALIFIANAKIS 4GB</td>\n",
       "      <td>76%</td>\n",
       "      <td>NR</td>\n",
       "      <td>2007</td>\n",
       "      <td>Stand-up Comedy</td>\n",
       "      <td>Zach Galifianakis, Owen Wilson, Kristen Wiig</td>\n",
       "    </tr>\n",
       "    <tr>\n",
       "      <th>514</th>\n",
       "      <td>Zoolander</td>\n",
       "      <td>ZOOLANDER</td>\n",
       "      <td>80%</td>\n",
       "      <td>PG-13</td>\n",
       "      <td>2001</td>\n",
       "      <td>Comedy</td>\n",
       "      <td>Ben Stiller, Owen Wilson, Will Ferrell</td>\n",
       "    </tr>\n",
       "    <tr>\n",
       "      <th>515</th>\n",
       "      <td>Zoolander 2</td>\n",
       "      <td>ZOOLANDER 2</td>\n",
       "      <td>20%</td>\n",
       "      <td>PG-13</td>\n",
       "      <td>2016</td>\n",
       "      <td>Comedy</td>\n",
       "      <td>Ben Stiller, Owen Wilson, Will Ferrell</td>\n",
       "    </tr>\n",
       "  </tbody>\n",
       "</table>\n",
       "<p>516 rows × 7 columns</p>\n",
       "</div>"
      ],
      "text/plain": [
       "                                           Title               File Name  \\\n",
       "0                                           1917                    1917   \n",
       "1                                 21 Jump Street          21 JUMP STREET   \n",
       "2                                     27 Dresses              27 DRESSES   \n",
       "3                             40 Year Old Virgin      40 YEAR OLD VIRGIN   \n",
       "4                                 50 First Dates          50 FIRST DATES   \n",
       "..                                           ...                     ...   \n",
       "511                       You're Welcome America  YOU'RE WELCOME AMERICA   \n",
       "512                              You've Got Mail     YOU'VE GOT MAIL 4GB   \n",
       "513  Zach Galifianakis: Live at the Purple Onion   ZACH GALIFIANAKIS 4GB   \n",
       "514                                    Zoolander               ZOOLANDER   \n",
       "515                                  Zoolander 2             ZOOLANDER 2   \n",
       "\n",
       "    RT Rating Rating  Date            Genre  \\\n",
       "0         88%      R  2019      History War   \n",
       "1         82%      R  2012    Comedy Action   \n",
       "2         57%  PG-13  2008   Comedy Romance   \n",
       "3         84%      R  2005   Comedy Romance   \n",
       "4         65%  PG-13  2004   Comedy Romance   \n",
       "..        ...    ...   ...              ...   \n",
       "511       62%     NR  2009           Comedy   \n",
       "512       73%     PG  1998   Comedy Romance   \n",
       "513       76%     NR  2007  Stand-up Comedy   \n",
       "514       80%  PG-13  2001           Comedy   \n",
       "515       20%  PG-13  2016           Comedy   \n",
       "\n",
       "                                                Actors  \n",
       "0     George Mackay, Dean-Charles Chapman, Mark Strong  \n",
       "1              Jonah Hill, Channing Tatum, Brie Larson  \n",
       "2        Katherine Heigl, James Marsden, Malin Akerman  \n",
       "3    Steve Carell, Catherine Keener, Paul Rudd, Rom...  \n",
       "4    Adam Sandler, Drew Barrymore, Rob Schneider, S...  \n",
       "..                                                 ...  \n",
       "511            Will Ferrell, Michael Delaney, Pia Glen  \n",
       "512                  Tom Hanks, Meg Ryan, Parker Posey  \n",
       "513       Zach Galifianakis, Owen Wilson, Kristen Wiig  \n",
       "514             Ben Stiller, Owen Wilson, Will Ferrell  \n",
       "515             Ben Stiller, Owen Wilson, Will Ferrell  \n",
       "\n",
       "[516 rows x 7 columns]"
      ]
     },
     "execution_count": 11,
     "metadata": {},
     "output_type": "execute_result"
    }
   ],
   "source": [
    "movieList"
   ]
  },
  {
   "cell_type": "code",
   "execution_count": null,
   "metadata": {},
   "outputs": [],
   "source": [
    "for index, row in cities_pd.iterrows():\n",
    "    cur_lat = row['Lat']\n",
    "    cur_lng = row['Lng']\n",
    "    # Save config information\n",
    "    url=\"https://api.openweathermap.org/data/2.5/onecall?units=imperial&lat=\" + str(cur_lat) + \"&lon=\" + str(cur_lng) + \"&\"\n",
    "    # Build query URL\n",
    "    query_url = url + \"appid=\" + api_key\n",
    "    #print(query_url)\n",
    "    # Get weather data\n",
    "    weather_response = requests.get(query_url)\n",
    "    weather_json = weather_response.json()\n",
    "    num_days=len(weather_json['daily'])"
   ]
  },
  {
   "cell_type": "code",
   "execution_count": 4,
   "metadata": {},
   "outputs": [],
   "source": [
    "# Note that the ?t= is a query param for the t-itle of the\n",
    "# movie we want to search for.\n",
    "url = \"http://www.omdbapi.com/?t=\"\n",
    "api_key = \"&apikey=\" + api_key"
   ]
  },
  {
   "cell_type": "code",
   "execution_count": null,
   "metadata": {},
   "outputs": [],
   "source": [
    "df = pd.DataFrame(movieList, columns = ['Title', 'Name_2', 'Marks', 'Name_2', 'Marks', 'Name_2', 'Marks', 'Name_2', 'Marks', 'Name_2', 'Marks'])\n"
   ]
  },
  {
   "cell_type": "code",
   "execution_count": 5,
   "metadata": {},
   "outputs": [],
   "source": [
    "# Performing a GET request\n",
    "response = requests.get(url + \"Caddyshack\" + api_key)"
   ]
  },
  {
   "cell_type": "code",
   "execution_count": 6,
   "metadata": {},
   "outputs": [
    {
     "name": "stdout",
     "output_type": "stream",
     "text": [
      "{'Actors': 'Chevy Chase, Rodney Dangerfield, Bill Murray',\n",
      " 'Awards': '1 nomination',\n",
      " 'BoxOffice': '$39,846,344',\n",
      " 'Country': 'United States',\n",
      " 'DVD': '04 Apr 2000',\n",
      " 'Director': 'Harold Ramis',\n",
      " 'Genre': 'Comedy, Sport',\n",
      " 'Language': 'English',\n",
      " 'Metascore': '48',\n",
      " 'Plot': 'An exclusive golf course has to deal with a brash new member and a '\n",
      "         'destructive dancing gopher.',\n",
      " 'Poster': 'https://m.media-amazon.com/images/M/MV5BY2I1NWE2NzctNzNkYS00Nzg5LWEwZTQtN2I3Nzk3MTQwMDY2XkEyXkFqcGdeQXVyMTQxNzMzNDI@._V1_SX300.jpg',\n",
      " 'Production': 'N/A',\n",
      " 'Rated': 'R',\n",
      " 'Ratings': [{'Source': 'Internet Movie Database', 'Value': '7.3/10'},\n",
      "             {'Source': 'Rotten Tomatoes', 'Value': '73%'},\n",
      "             {'Source': 'Metacritic', 'Value': '48/100'}],\n",
      " 'Released': '25 Jul 1980',\n",
      " 'Response': 'True',\n",
      " 'Runtime': '98 min',\n",
      " 'Title': 'Caddyshack',\n",
      " 'Type': 'movie',\n",
      " 'Website': 'N/A',\n",
      " 'Writer': 'Brian Doyle-Murray, Harold Ramis, Douglas Kenney',\n",
      " 'Year': '1980',\n",
      " 'imdbID': 'tt0080487',\n",
      " 'imdbRating': '7.3',\n",
      " 'imdbVotes': '113,824'}\n"
     ]
    }
   ],
   "source": [
    "# Converting the response to JSON, and printing the result.\n",
    "data = response.json()\n",
    "pprint(data)"
   ]
  },
  {
   "cell_type": "code",
   "execution_count": 7,
   "metadata": {},
   "outputs": [
    {
     "name": "stdout",
     "output_type": "stream",
     "text": [
      "Movie was directed by Harold Ramis.\n",
      "Movie was released in United States.\n"
     ]
    }
   ],
   "source": [
    "# Print a few keys from the response JSON.\n",
    "print(f\"Movie was directed by {data['Director']}.\")\n",
    "print(f\"Movie was released in {data['Country']}.\")"
   ]
  },
  {
   "cell_type": "code",
   "execution_count": null,
   "metadata": {},
   "outputs": [],
   "source": []
  }
 ],
 "metadata": {
  "kernelspec": {
   "display_name": "Python 3",
   "language": "python",
   "name": "python3"
  },
  "language_info": {
   "codemirror_mode": {
    "name": "ipython",
    "version": 3
   },
   "file_extension": ".py",
   "mimetype": "text/x-python",
   "name": "python",
   "nbconvert_exporter": "python",
   "pygments_lexer": "ipython3",
   "version": "3.7.9"
  },
  "varInspector": {
   "cols": {
    "lenName": 16,
    "lenType": 16,
    "lenVar": 40
   },
   "kernels_config": {
    "python": {
     "delete_cmd_postfix": "",
     "delete_cmd_prefix": "del ",
     "library": "var_list.py",
     "varRefreshCmd": "print(var_dic_list())"
    },
    "r": {
     "delete_cmd_postfix": ") ",
     "delete_cmd_prefix": "rm(",
     "library": "var_list.r",
     "varRefreshCmd": "cat(var_dic_list()) "
    }
   },
   "types_to_exclude": [
    "module",
    "function",
    "builtin_function_or_method",
    "instance",
    "_Feature"
   ],
   "window_display": false
  }
 },
 "nbformat": 4,
 "nbformat_minor": 2
}
