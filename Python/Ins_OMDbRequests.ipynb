{
 "cells": [
  {
   "cell_type": "code",
   "execution_count": 1,
   "metadata": {},
   "outputs": [],
   "source": [
    "import requests\n",
    "import json\n",
    "from config import api_key"
   ]
  },
  {
   "cell_type": "code",
   "execution_count": 2,
   "metadata": {},
   "outputs": [],
   "source": [
    "# New Dependency! Use this to pretty print the JSON\n",
    "# https://docs.python.org/3/library/pprint.html\n",
    "from pprint import pprint"
   ]
  },
  {
   "cell_type": "code",
   "execution_count": 3,
   "metadata": {},
   "outputs": [
    {
     "data": {
      "text/plain": [
       "'6ccb42cc'"
      ]
     },
     "execution_count": 3,
     "metadata": {},
     "output_type": "execute_result"
    }
   ],
   "source": [
    "api_key"
   ]
  },
  {
   "cell_type": "code",
   "execution_count": 4,
   "metadata": {},
   "outputs": [],
   "source": [
    "# Note that the ?t= is a query param for the t-itle of the\n",
    "# movie we want to search for.\n",
    "url = \"http://www.omdbapi.com/?t=\"\n",
    "api_key = \"&apikey=\" + api_key"
   ]
  },
  {
   "cell_type": "code",
   "execution_count": 5,
   "metadata": {},
   "outputs": [],
   "source": [
    "# Performing a GET request similar to the one we executed\n",
    "# earlier\n",
    "response = requests.get(url + \"Caddyshack\" + api_key)"
   ]
  },
  {
   "cell_type": "code",
   "execution_count": 6,
   "metadata": {},
   "outputs": [
    {
     "name": "stdout",
     "output_type": "stream",
     "text": [
      "{'Actors': 'Chevy Chase, Rodney Dangerfield, Bill Murray',\n",
      " 'Awards': '1 nomination',\n",
      " 'BoxOffice': '$39,846,344',\n",
      " 'Country': 'United States',\n",
      " 'DVD': '04 Apr 2000',\n",
      " 'Director': 'Harold Ramis',\n",
      " 'Genre': 'Comedy, Sport',\n",
      " 'Language': 'English',\n",
      " 'Metascore': '48',\n",
      " 'Plot': 'An exclusive golf course has to deal with a brash new member and a '\n",
      "         'destructive dancing gopher.',\n",
      " 'Poster': 'https://m.media-amazon.com/images/M/MV5BY2I1NWE2NzctNzNkYS00Nzg5LWEwZTQtN2I3Nzk3MTQwMDY2XkEyXkFqcGdeQXVyMTQxNzMzNDI@._V1_SX300.jpg',\n",
      " 'Production': 'N/A',\n",
      " 'Rated': 'R',\n",
      " 'Ratings': [{'Source': 'Internet Movie Database', 'Value': '7.3/10'},\n",
      "             {'Source': 'Rotten Tomatoes', 'Value': '73%'},\n",
      "             {'Source': 'Metacritic', 'Value': '48/100'}],\n",
      " 'Released': '25 Jul 1980',\n",
      " 'Response': 'True',\n",
      " 'Runtime': '98 min',\n",
      " 'Title': 'Caddyshack',\n",
      " 'Type': 'movie',\n",
      " 'Website': 'N/A',\n",
      " 'Writer': 'Brian Doyle-Murray, Harold Ramis, Douglas Kenney',\n",
      " 'Year': '1980',\n",
      " 'imdbID': 'tt0080487',\n",
      " 'imdbRating': '7.3',\n",
      " 'imdbVotes': '113,824'}\n"
     ]
    }
   ],
   "source": [
    "# Converting the response to JSON, and printing the result.\n",
    "data = response.json()\n",
    "pprint(data)"
   ]
  },
  {
   "cell_type": "code",
   "execution_count": 7,
   "metadata": {},
   "outputs": [
    {
     "name": "stdout",
     "output_type": "stream",
     "text": [
      "Movie was directed by Harold Ramis.\n",
      "Movie was released in United States.\n"
     ]
    }
   ],
   "source": [
    "# Print a few keys from the response JSON.\n",
    "print(f\"Movie was directed by {data['Director']}.\")\n",
    "print(f\"Movie was released in {data['Country']}.\")"
   ]
  },
  {
   "cell_type": "code",
   "execution_count": null,
   "metadata": {},
   "outputs": [],
   "source": []
  }
 ],
 "metadata": {
  "kernelspec": {
   "display_name": "Python 3",
   "language": "python",
   "name": "python3"
  },
  "language_info": {
   "codemirror_mode": {
    "name": "ipython",
    "version": 3
   },
   "file_extension": ".py",
   "mimetype": "text/x-python",
   "name": "python",
   "nbconvert_exporter": "python",
   "pygments_lexer": "ipython3",
   "version": "3.7.9"
  },
  "varInspector": {
   "cols": {
    "lenName": 16,
    "lenType": 16,
    "lenVar": 40
   },
   "kernels_config": {
    "python": {
     "delete_cmd_postfix": "",
     "delete_cmd_prefix": "del ",
     "library": "var_list.py",
     "varRefreshCmd": "print(var_dic_list())"
    },
    "r": {
     "delete_cmd_postfix": ") ",
     "delete_cmd_prefix": "rm(",
     "library": "var_list.r",
     "varRefreshCmd": "cat(var_dic_list()) "
    }
   },
   "types_to_exclude": [
    "module",
    "function",
    "builtin_function_or_method",
    "instance",
    "_Feature"
   ],
   "window_display": false
  }
 },
 "nbformat": 4,
 "nbformat_minor": 2
}
